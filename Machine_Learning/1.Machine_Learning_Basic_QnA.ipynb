{
 "cells": [
  {
   "cell_type": "markdown",
   "metadata": {},
   "source": [
    "# Session_14_Assignment_1"
   ]
  },
  {
   "cell_type": "markdown",
   "metadata": {},
   "source": [
    "## 1. What are the three stages to build the hypotheses or model in machine learning? "
   ]
  },
  {
   "cell_type": "markdown",
   "metadata": {},
   "source": [
    "## Answer-1) \n",
    "#### Three stages to build the hypotheses or model :\n",
    "#### a) Model building \n",
    "#### b) Model testing \n",
    "#### c) Applying the model \n",
    "\n",
    "\n",
    "Brief information on these three stages are as below :\n",
    "##### a) Model building:\n",
    "This step involves choosing the appropriate algorithm and representation of data in the form of the model.\n",
    "The model building process involves setting up ways of collecting data, understanding and paying attention to what is important in the data to answer the questions we are asking, finding a statistical, mathematical or a simulation model to gain understanding and make predictions.\n",
    "\n",
    "Steps to be followed for \"Data Preparation Process\" which is used for model building :\n",
    "Step 1: Select Data     \n",
    "        =>  selecting the subset of all available data that we will be working with.\n",
    "Step 2: Preprocess Data \n",
    "        =>  Perform data preprocessing steps such as formatting, cleaning and sampling to get the format of the data which we want to work with.\n",
    "Step 3: Transform Data  \n",
    "        => This step is also referred to as feature engineering.\n",
    "\t\t   Three common data transformations techniques are scaling, attribute decompositions and attribute aggregations.\n",
    "\n",
    "\n",
    "##### b) Model testing :\n",
    "To test our model, we need to split our dataset into training and test dataset.\n",
    "A training set is a dataset used to train a model. \n",
    "To train our model, first we need to select features from the selected data and then apply the model so that it can learn from the training dataset.\n",
    "Then those learning will be applied to \"Test dataset\" to evalute our model.\n",
    "\n",
    "##### c) Applying the model :\n",
    "After the steps of \"Model building\" and \"Model testing\", \n",
    "we can apply this model to predict the outcome for the real time datasets."
   ]
  },
  {
   "cell_type": "markdown",
   "metadata": {},
   "source": [
    "## 2. What is the standard approach to supervised learning? "
   ]
  },
  {
   "cell_type": "markdown",
   "metadata": {},
   "source": [
    "## Answer-2) \n",
    "The standard approach to supervised learning is to split the set of example into the training set and the test set to evalute our model selection and then apply the model which is more accurate & efficient and overcome the issues such as underfitting & overfitting."
   ]
  },
  {
   "cell_type": "markdown",
   "metadata": {},
   "source": [
    "## 3. What is Training set and Test set? "
   ]
  },
  {
   "cell_type": "markdown",
   "metadata": {},
   "source": [
    "## Answer-3)\n",
    "#### Training Set : \n",
    "It is part of dataset which are used to learn the behaviour of the data using the model selected.\n",
    "#### Test Set : \n",
    "Test set is used to test the accuracy of the hypotheses generated using the training set."
   ]
  },
  {
   "cell_type": "markdown",
   "metadata": {},
   "source": [
    "## 4. What is the general principle of an ensemble method and what is bagging and boosting in ensemble method?"
   ]
  },
  {
   "cell_type": "markdown",
   "metadata": {},
   "source": [
    "## Answer-4)\n",
    "#### General principle of an ensemble method :\n",
    "Ensemble model combines multiple \"individual\" (diverse) models together and delivers superior prediction power.\n",
    "\n",
    "#### Bagging :\n",
    "It is an ensemble method in which first, we create random samples of the training data set (sub sets of training data set). \n",
    "Then, we build a classifier for each sample. \n",
    "Finally, results of these multiple classifiers are combined using average or majority voting. \n",
    "Bagging helps to reduce the variance error.\n",
    "\n",
    "#### Boosting : \n",
    "It provides sequential learning of the predictors. \n",
    "The first predictor is learned on the whole data set, while the following are learnt on the training set based on the performance of the previous one. \n",
    "It starts by classifying original data set and giving equal weights to each observation. \n",
    "If classes are predicted incorrectly using the first learner, then it gives higher weight to the missed classified observation. \n",
    "Being an iterative process, it continues to add classifier learner until a limit is reached in the number of models or accuracy. \n",
    "Boosting in general decreases the bias error and builds strong predictive models. However, they may sometimes over fit on the training data."
   ]
  },
  {
   "cell_type": "markdown",
   "metadata": {},
   "source": [
    "## 5. How can you avoid overfitting ?"
   ]
  },
  {
   "cell_type": "markdown",
   "metadata": {},
   "source": [
    "## Answer-5)\n",
    "### Steps for reducing overfitting:\n",
    "#### 1. Add more data\n",
    "#### 2. Use data augmentation\n",
    "#### 3. Use architectures that generalize well\n",
    "#### 4. Add regularization (mostly dropout, L1/L2 regularization are also possible)\n",
    "#### 5. Reduce architecture complexity.\n",
    "\n",
    "##### Brief description on the above mentioned steps are as below :\n",
    "The first step is of course to collect more data. However, in most cases we will not be able to. \n",
    "Let’s assume we have collected all the data.\n",
    "The next step is data augmentation: something that is always recommended to use.\n",
    "Data augmentation includes things like randomly rotating the image, zooming in, adding a color filter etc. \n",
    "Data augmentation only happens to the training set and not on the validation/test set. \n",
    "It can be useful to check if we are using too much data augmentation. \n",
    "For example, if we zoom in so much that features of a cat are not visible anymore, \n",
    "than the model is not going to get better from training on these images.\n",
    "\n",
    "The third step is to use an architecture that generalizes well. \n",
    "However, much more important is the fourth step: adding regularization. \n",
    "The three most popular options are: dropout, L1 regularization and L2 regularization. \n",
    "Dropout deletes a random sample of the activations (makes them zero) in training. \n",
    "In the Vgg model this is only applied in the fully connected layers at the end of the model. \n",
    "However, it can also be applied to the convolutional layers. \n",
    "We need to be aware that dropout causes information to get lost. "
   ]
  },
  {
   "cell_type": "code",
   "execution_count": null,
   "metadata": {
    "collapsed": true
   },
   "outputs": [],
   "source": []
  }
 ],
 "metadata": {
  "celltoolbar": "Raw Cell Format",
  "kernelspec": {
   "display_name": "Python 3",
   "language": "python",
   "name": "python3"
  },
  "language_info": {
   "codemirror_mode": {
    "name": "ipython",
    "version": 3
   },
   "file_extension": ".py",
   "mimetype": "text/x-python",
   "name": "python",
   "nbconvert_exporter": "python",
   "pygments_lexer": "ipython3",
   "version": "3.6.1"
  }
 },
 "nbformat": 4,
 "nbformat_minor": 2
}
